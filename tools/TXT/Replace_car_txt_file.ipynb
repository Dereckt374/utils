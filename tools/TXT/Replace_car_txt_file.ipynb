{
 "cells": [
  {
   "cell_type": "code",
   "execution_count": 1,
   "metadata": {},
   "outputs": [
    {
     "name": "stdout",
     "output_type": "stream",
     "text": [
      "Text replaced\n"
     ]
    }
   ],
   "source": [
    "search_text = \"f\"\n",
    "replace_text = \"\"\n",
    "link = r\"C:\\Users\\Virgil MESLE\\Downloads\\test.txt\"\n",
    "with open(link, 'r') as file: \n",
    "    data = file.read() \n",
    "    data = data.replace(search_text, replace_text) \n",
    "\n",
    "with open(link, 'w') as file: \n",
    "    file.write(data) \n",
    "print(\"Text replaced\") "
   ]
  }
 ],
 "metadata": {
  "kernelspec": {
   "display_name": "Python 3",
   "language": "python",
   "name": "python3"
  },
  "language_info": {
   "codemirror_mode": {
    "name": "ipython",
    "version": 3
   },
   "file_extension": ".py",
   "mimetype": "text/x-python",
   "name": "python",
   "nbconvert_exporter": "python",
   "pygments_lexer": "ipython3",
   "version": "3.10.0"
  }
 },
 "nbformat": 4,
 "nbformat_minor": 2
}
