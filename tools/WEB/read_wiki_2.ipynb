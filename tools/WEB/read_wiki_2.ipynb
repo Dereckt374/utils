{
 "cells": [
  {
   "cell_type": "code",
   "execution_count": 15,
   "id": "b25be6e4",
   "metadata": {},
   "outputs": [],
   "source": [
    "import numpy as np\n",
    "import matplotlib.pyplot as plt\n",
    "import warnings\n",
    "warnings.filterwarnings('ignore')\n",
    "import pandas as pd\n",
    "import re #Permet de gerer les expressions régulieres\n",
    "import sys\n",
    "path=r'C:\\Users\\virgil.mesle\\Documents\\Vault\\Obsidian\\Python\\My_codes\\My_module'\n",
    "sys.path.append(path)\n",
    "import fonctions as fct\n",
    "import matplotlib.colors as mcolors\n",
    "\n",
    "import seaborn as sns\n",
    "\n",
    "from os import listdir # Parcourir les repertoires\n",
    "from os.path import isfile, join\n",
    "\n",
    "pd.set_option(\"display.max_columns\", None)\n",
    "pd.set_option(\"display.max_colwidth\", None)\n",
    "pd.set_option(\"display.max_rows\", None)\n",
    "\n",
    "plt.style.use('seaborn-whitegrid')\n",
    "plt.rcParams[\"figure.figsize\"] = [15,10]\n",
    "plt.rcParams['font.size'] = '14'\n",
    "\n",
    "plt.style.use('seaborn-whitegrid')\n"
   ]
  },
  {
   "cell_type": "code",
   "execution_count": 2,
   "id": "234daacd",
   "metadata": {},
   "outputs": [],
   "source": [
    "link = r\"https://en.wikipedia.org/wiki/List_of_thermal_conductivities\""
   ]
  },
  {
   "cell_type": "code",
   "execution_count": 4,
   "id": "2f27a9ba",
   "metadata": {},
   "outputs": [],
   "source": [
    "wiki =pd.read_html(link)"
   ]
  },
  {
   "cell_type": "code",
   "execution_count": 6,
   "id": "f2f336e3",
   "metadata": {},
   "outputs": [
    {
     "data": {
      "text/plain": [
       "2"
      ]
     },
     "execution_count": 6,
     "metadata": {},
     "output_type": "execute_result"
    }
   ],
   "source": [
    "len(wiki)"
   ]
  },
  {
   "cell_type": "code",
   "execution_count": 14,
   "id": "390de55f",
   "metadata": {},
   "outputs": [
    {
     "data": {
      "text/plain": [
       "Index(['Material', 'Thermal conductivity [W·m−1·K−1]', 'Temperature [K]',\n",
       "       'Electrical conductivity @ 293 K [Ω−1·m−1]', 'Notes'],\n",
       "      dtype='object')"
      ]
     },
     "execution_count": 14,
     "metadata": {},
     "output_type": "execute_result"
    }
   ],
   "source": [
    "df = wiki[1]\n",
    "head = df.columns\n",
    "head"
   ]
  },
  {
   "cell_type": "code",
   "execution_count": 24,
   "id": "1021487b",
   "metadata": {},
   "outputs": [
    {
     "data": {
      "text/html": [
       "<div>\n",
       "<style scoped>\n",
       "    .dataframe tbody tr th:only-of-type {\n",
       "        vertical-align: middle;\n",
       "    }\n",
       "\n",
       "    .dataframe tbody tr th {\n",
       "        vertical-align: top;\n",
       "    }\n",
       "\n",
       "    .dataframe thead th {\n",
       "        text-align: right;\n",
       "    }\n",
       "</style>\n",
       "<table border=\"1\" class=\"dataframe\">\n",
       "  <thead>\n",
       "    <tr style=\"text-align: right;\">\n",
       "      <th></th>\n",
       "      <th>Material</th>\n",
       "      <th>Thermal conductivity [W·m−1·K−1]</th>\n",
       "      <th>Temperature [K]</th>\n",
       "      <th>Electrical conductivity @ 293 K [Ω−1·m−1]</th>\n",
       "      <th>Notes</th>\n",
       "    </tr>\n",
       "  </thead>\n",
       "  <tbody>\n",
       "    <tr>\n",
       "      <th>29</th>\n",
       "      <td>Copper, commercial</td>\n",
       "      <td>Wright, W. H., M. S. Thesis: Sample 1 L 423 385 358 311 346 347 350 360 Sample 2 L 353 360 366 363 365 Lists: TPRC I page 75 curve 129[8] Taga, M., periodical First run: 378 Second run: 374 Third run: 378 Fourth run: 382 List: TPRC I page 75 curve 129[8]</td>\n",
       "      <td>80.06 95.34 115.62 135.53 159.46 181.56 198.35 217.30 198.53 220.90 240.88 257.38 275.40 363.2 363.2 363.2 363.2</td>\n",
       "      <td>NaN</td>\n",
       "      <td>Wright, W. H., M. S. Thesis, Georgia Institute of Technology, 1–225, 1960. TPRC Data Series Volume 1, pages 75 and 80 curve 129, ref. page 1465.[8] Taga, commercial grade, 99.82% purity, density 8.3 g⋅cm−3. Taga, M., [Bull?], Japan Soc. Mech. Engrs., 3 (11) 346–52, 1960. TPRC Data Series Vol 1, pages 74, 79 and 1459.[8]</td>\n",
       "    </tr>\n",
       "    <tr>\n",
       "      <th>30</th>\n",
       "      <td>Copper, pure</td>\n",
       "      <td>[23]-386[34][35]-390[6]-401[5][15][16] 368.7[34] 353.1[34] 1970s values: TPRC (American) 2870 13800 19600 10500 4300 2050 1220 850 670 570 514 483 413 401 398 392 388 383 377 371 364 357 350 342 334 List[8] The Soviet Union 403[61] 1960s Values Thin Copper Foil*: 126.8 202.3 295.9 400.2 List[62][8]</td>\n",
       "      <td>[5][6][15][16][23][34] 573[34] 873[34] 1 5 10 20 30 40 50 60 70 80 90 100 200 273 300 400 500 600 700 800 900 1000 1100 1200 1300 273.15 0.427 0.671 0.981 1.322</td>\n",
       "      <td>[16] - 59,590,000[38] Formula Values: 6.37 ⋅ 107 at 273.15 K; 5.71 ⋅ 107 at 300K; 4.15 ⋅ 107 at 400K.[40]</td>\n",
       "      <td>International Annealed Copper Standard (IACS) pure =1.7×10−8Ω•m =58.82×106Ω−1•m−1 For main article, see: Copper in heat exchangers. The TPRC recommended values are for well annealed 99.999% pure copper with residual electrical resistivity of ρ0=0.000851 μΩ⋅cm. TPRC Data Series volume 1 page 81.[8] Out of 138 samples in the TPRC Data Series on the thermal conductivity of copper there is only one foil and that one was only measured at very low temperatures where other coppers also demonstrated extreme deviance. The blurred up reference to it on page 1465 looks like Landenfeld, P., Lynton, E.A. and Souten, R., Phys. Letters, Volume 19 page 265, 1965.</td>\n",
       "    </tr>\n",
       "  </tbody>\n",
       "</table>\n",
       "</div>"
      ],
      "text/plain": [
       "              Material   \n",
       "29  Copper, commercial  \\\n",
       "30        Copper, pure   \n",
       "\n",
       "                                                                                                                                                                                                                                                                               Thermal conductivity [W·m−1·K−1]   \n",
       "29                                               Wright, W. H., M. S. Thesis: Sample 1 L 423 385 358 311 346 347 350 360 Sample 2 L 353 360 366 363 365 Lists: TPRC I page 75 curve 129[8] Taga, M., periodical First run: 378 Second run: 374 Third run: 378 Fourth run: 382 List: TPRC I page 75 curve 129[8]  \\\n",
       "30  [23]-386[34][35]-390[6]-401[5][15][16] 368.7[34] 353.1[34] 1970s values: TPRC (American) 2870 13800 19600 10500 4300 2050 1220 850 670 570 514 483 413 401 398 392 388 383 377 371 364 357 350 342 334 List[8] The Soviet Union 403[61] 1960s Values Thin Copper Foil*: 126.8 202.3 295.9 400.2 List[62][8]   \n",
       "\n",
       "                                                                                                                                                     Temperature [K]   \n",
       "29                                                  80.06 95.34 115.62 135.53 159.46 181.56 198.35 217.30 198.53 220.90 240.88 257.38 275.40 363.2 363.2 363.2 363.2  \\\n",
       "30  [5][6][15][16][23][34] 573[34] 873[34] 1 5 10 20 30 40 50 60 70 80 90 100 200 273 300 400 500 600 700 800 900 1000 1100 1200 1300 273.15 0.427 0.671 0.981 1.322   \n",
       "\n",
       "                                                                    Electrical conductivity @ 293 K [Ω−1·m−1]   \n",
       "29                                                                                                        NaN  \\\n",
       "30  [16] - 59,590,000[38] Formula Values: 6.37 ⋅ 107 at 273.15 K; 5.71 ⋅ 107 at 300K; 4.15 ⋅ 107 at 400K.[40]   \n",
       "\n",
       "                                                                                                                                                                                                                                                                                                                                                                                                                                                                                                                                                                                                                                                                              Notes  \n",
       "29                                                                                                                                                                                                                                                                                                                                                Wright, W. H., M. S. Thesis, Georgia Institute of Technology, 1–225, 1960. TPRC Data Series Volume 1, pages 75 and 80 curve 129, ref. page 1465.[8] Taga, commercial grade, 99.82% purity, density 8.3 g⋅cm−3. Taga, M., [Bull?], Japan Soc. Mech. Engrs., 3 (11) 346–52, 1960. TPRC Data Series Vol 1, pages 74, 79 and 1459.[8]  \n",
       "30  International Annealed Copper Standard (IACS) pure =1.7×10−8Ω•m =58.82×106Ω−1•m−1 For main article, see: Copper in heat exchangers. The TPRC recommended values are for well annealed 99.999% pure copper with residual electrical resistivity of ρ0=0.000851 μΩ⋅cm. TPRC Data Series volume 1 page 81.[8] Out of 138 samples in the TPRC Data Series on the thermal conductivity of copper there is only one foil and that one was only measured at very low temperatures where other coppers also demonstrated extreme deviance. The blurred up reference to it on page 1465 looks like Landenfeld, P., Lynton, E.A. and Souten, R., Phys. Letters, Volume 19 page 265, 1965.  "
      ]
     },
     "execution_count": 24,
     "metadata": {},
     "output_type": "execute_result"
    }
   ],
   "source": [
    "mask = df[head[0]].str.contains('opper')\n",
    "df[mask]"
   ]
  }
 ],
 "metadata": {
  "kernelspec": {
   "display_name": "Python 3 (ipykernel)",
   "language": "python",
   "name": "python3"
  },
  "language_info": {
   "codemirror_mode": {
    "name": "ipython",
    "version": 3
   },
   "file_extension": ".py",
   "mimetype": "text/x-python",
   "name": "python",
   "nbconvert_exporter": "python",
   "pygments_lexer": "ipython3",
   "version": "3.10.4"
  }
 },
 "nbformat": 4,
 "nbformat_minor": 5
}
