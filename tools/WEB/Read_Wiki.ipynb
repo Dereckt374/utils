{
 "cells": [
  {
   "cell_type": "code",
   "execution_count": 1,
   "id": "0adde765",
   "metadata": {},
   "outputs": [
    {
     "name": "stderr",
     "output_type": "stream",
     "text": [
      "/home/vmesle/.local/lib/python3.10/site-packages/matplotlib/projections/__init__.py:63: UserWarning: Unable to import Axes3D. This may be due to multiple versions of Matplotlib being installed (e.g. as a system package and as a pip package). As a result, the 3D projection is not available.\n",
      "  warnings.warn(\"Unable to import Axes3D. This may be due to multiple versions of \"\n"
     ]
    }
   ],
   "source": [
    "import numpy as np\n",
    "import matplotlib.pyplot as plt\n",
    "import warnings\n",
    "warnings.filterwarnings('ignore')\n",
    "import pandas as pd"
   ]
  },
  {
   "cell_type": "code",
   "execution_count": 3,
   "id": "897b3338",
   "metadata": {},
   "outputs": [],
   "source": [
    "link = 'https://destination-orbite.net/astronautique/lancements/recapitulatif/lancements-orbitaux-2024'"
   ]
  },
  {
   "cell_type": "code",
   "execution_count": null,
   "id": "2cad431a",
   "metadata": {},
   "outputs": [],
   "source": [
    "data=pd.read_html(link)"
   ]
  },
  {
   "cell_type": "code",
   "execution_count": null,
   "id": "0c7ed097",
   "metadata": {},
   "outputs": [
    {
     "data": {
      "text/plain": [
       "1"
      ]
     },
     "execution_count": 5,
     "metadata": {},
     "output_type": "execute_result"
    }
   ],
   "source": [
    "len(data)"
   ]
  },
  {
   "cell_type": "code",
   "execution_count": null,
   "id": "f3b2e08e",
   "metadata": {},
   "outputs": [],
   "source": [
    "df = data[0]"
   ]
  },
  {
   "cell_type": "code",
   "execution_count": null,
   "id": "49d98ea3",
   "metadata": {},
   "outputs": [
    {
     "data": {
      "text/html": [
       "<div>\n",
       "<style scoped>\n",
       "    .dataframe tbody tr th:only-of-type {\n",
       "        vertical-align: middle;\n",
       "    }\n",
       "\n",
       "    .dataframe tbody tr th {\n",
       "        vertical-align: top;\n",
       "    }\n",
       "\n",
       "    .dataframe thead th {\n",
       "        text-align: right;\n",
       "    }\n",
       "</style>\n",
       "<table border=\"1\" class=\"dataframe\">\n",
       "  <thead>\n",
       "    <tr style=\"text-align: right;\">\n",
       "      <th></th>\n",
       "      <th>COSPAR PAYS</th>\n",
       "      <th>DATE HEURE</th>\n",
       "      <th>LANCEUR MISSION</th>\n",
       "      <th>CENTRE SPATIAL PAS DE TIR</th>\n",
       "      <th>CHARGE UTILE</th>\n",
       "    </tr>\n",
       "  </thead>\n",
       "  <tbody>\n",
       "    <tr>\n",
       "      <th>0</th>\n",
       "      <td>2024-255 Etats-Unis</td>\n",
       "      <td>31-12-2024 05:39:10 UTC</td>\n",
       "      <td>Falcon 9 V1.2 (Block 5) 417/B1078.16</td>\n",
       "      <td>Kennedy Space Center LC-39A</td>\n",
       "      <td>Starlink v2-Mini G12-6-1 Starlink v2-Mini G12-...</td>\n",
       "    </tr>\n",
       "    <tr>\n",
       "      <th>1</th>\n",
       "      <td>2024-253 Inde</td>\n",
       "      <td>30-12-2024 16:30 UTC</td>\n",
       "      <td>PSLV-CA C60</td>\n",
       "      <td>Satish Dhawan Space Center FLP</td>\n",
       "      <td>SPADEX Chaser SPADEX Target POEM-4</td>\n",
       "    </tr>\n",
       "    <tr>\n",
       "      <th>2</th>\n",
       "      <td>2024-252 Etats-Unis</td>\n",
       "      <td>29-12-2024 05:00 UTC</td>\n",
       "      <td>Falcon 9 V1.2 (Block 5) 416/B1083.17</td>\n",
       "      <td>Cape Canaveral Space Force Station SLC-40</td>\n",
       "      <td>Agila NuView A NuView B UtilitySat 1</td>\n",
       "    </tr>\n",
       "    <tr>\n",
       "      <th>3</th>\n",
       "      <td>2024-251 Etats-Unis</td>\n",
       "      <td>29-12-2024 01:58:30 UTC</td>\n",
       "      <td>Falcon 9 V1.2 (Block 5) 415/B1075.16</td>\n",
       "      <td>Vandenberg Space Force Base SLC-4E</td>\n",
       "      <td>Starlink v2-Mini G11-3-1 Starlink v2-Mini G11-...</td>\n",
       "    </tr>\n",
       "    <tr>\n",
       "      <th>4</th>\n",
       "      <td>2024-F05 Chine</td>\n",
       "      <td>27-12-2024 01:03:35 UTC</td>\n",
       "      <td>Lijian 1 L1-Y6</td>\n",
       "      <td>Jiuquan Space Center LP-43/130</td>\n",
       "      <td>DEAR-3 CASAA-Sat Unk LJ1Y6 Sat 1 Unk LJ1Y6 Sat...</td>\n",
       "    </tr>\n",
       "    <tr>\n",
       "      <th>...</th>\n",
       "      <td>...</td>\n",
       "      <td>...</td>\n",
       "      <td>...</td>\n",
       "      <td>...</td>\n",
       "      <td>...</td>\n",
       "    </tr>\n",
       "    <tr>\n",
       "      <th>254</th>\n",
       "      <td>2024-005 Etats-Unis</td>\n",
       "      <td>07-01-2024 22:35:40 UTC</td>\n",
       "      <td>Falcon 9 V1.2 (Block 5) 288/B1067.16</td>\n",
       "      <td>Cape Canaveral Space Force Station SLC-40</td>\n",
       "      <td>Starlink v2-Mini G6-35-1 Starlink v2-Mini G6-3...</td>\n",
       "    </tr>\n",
       "    <tr>\n",
       "      <th>255</th>\n",
       "      <td>2024-004 Chine</td>\n",
       "      <td>05-01-2024 11:20 UTC</td>\n",
       "      <td>Kuaizhou 1A KZ1A-Y27</td>\n",
       "      <td>Jiuquan Space Center LP-43/95A</td>\n",
       "      <td>Tianmu 1-15 Tianmu 1-16 Tianmu 1-17 Tianmu 1-18</td>\n",
       "    </tr>\n",
       "    <tr>\n",
       "      <th>256</th>\n",
       "      <td>2024-003 Etats-Unis</td>\n",
       "      <td>03-01-2024 23:04 UTC</td>\n",
       "      <td>Falcon 9 V1.2 (Block 5) 287/B1076.10</td>\n",
       "      <td>Cape Canaveral Space Force Station SLC-40</td>\n",
       "      <td>Ovzon 3</td>\n",
       "    </tr>\n",
       "    <tr>\n",
       "      <th>257</th>\n",
       "      <td>2024-002 Etats-Unis</td>\n",
       "      <td>03-01-2024 03:44:20 UTC</td>\n",
       "      <td>Falcon 9 V1.2 (Block 5) 286/B1082.1</td>\n",
       "      <td>Vandenberg Space Force Base SLC-4E</td>\n",
       "      <td>Starlink v2-Mini G7-9-1 Starlink v2-Mini G7-9-...</td>\n",
       "    </tr>\n",
       "    <tr>\n",
       "      <th>258</th>\n",
       "      <td>2024-001 Inde</td>\n",
       "      <td>01-01-2024 03:40:00 UTC</td>\n",
       "      <td>PSLV-DL C58</td>\n",
       "      <td>Satish Dhawan Space Center FLP</td>\n",
       "      <td>XPoSat POEM 3</td>\n",
       "    </tr>\n",
       "  </tbody>\n",
       "</table>\n",
       "<p>259 rows × 5 columns</p>\n",
       "</div>"
      ],
      "text/plain": [
       "             COSPAR PAYS               DATE HEURE  \\\n",
       "0    2024-255 Etats-Unis  31-12-2024 05:39:10 UTC   \n",
       "1          2024-253 Inde     30-12-2024 16:30 UTC   \n",
       "2    2024-252 Etats-Unis     29-12-2024 05:00 UTC   \n",
       "3    2024-251 Etats-Unis  29-12-2024 01:58:30 UTC   \n",
       "4         2024-F05 Chine  27-12-2024 01:03:35 UTC   \n",
       "..                   ...                      ...   \n",
       "254  2024-005 Etats-Unis  07-01-2024 22:35:40 UTC   \n",
       "255       2024-004 Chine     05-01-2024 11:20 UTC   \n",
       "256  2024-003 Etats-Unis     03-01-2024 23:04 UTC   \n",
       "257  2024-002 Etats-Unis  03-01-2024 03:44:20 UTC   \n",
       "258        2024-001 Inde  01-01-2024 03:40:00 UTC   \n",
       "\n",
       "                          LANCEUR MISSION  \\\n",
       "0    Falcon 9 V1.2 (Block 5) 417/B1078.16   \n",
       "1                             PSLV-CA C60   \n",
       "2    Falcon 9 V1.2 (Block 5) 416/B1083.17   \n",
       "3    Falcon 9 V1.2 (Block 5) 415/B1075.16   \n",
       "4                          Lijian 1 L1-Y6   \n",
       "..                                    ...   \n",
       "254  Falcon 9 V1.2 (Block 5) 288/B1067.16   \n",
       "255                  Kuaizhou 1A KZ1A-Y27   \n",
       "256  Falcon 9 V1.2 (Block 5) 287/B1076.10   \n",
       "257   Falcon 9 V1.2 (Block 5) 286/B1082.1   \n",
       "258                           PSLV-DL C58   \n",
       "\n",
       "                     CENTRE SPATIAL PAS DE TIR  \\\n",
       "0                  Kennedy Space Center LC-39A   \n",
       "1               Satish Dhawan Space Center FLP   \n",
       "2    Cape Canaveral Space Force Station SLC-40   \n",
       "3           Vandenberg Space Force Base SLC-4E   \n",
       "4               Jiuquan Space Center LP-43/130   \n",
       "..                                         ...   \n",
       "254  Cape Canaveral Space Force Station SLC-40   \n",
       "255             Jiuquan Space Center LP-43/95A   \n",
       "256  Cape Canaveral Space Force Station SLC-40   \n",
       "257         Vandenberg Space Force Base SLC-4E   \n",
       "258             Satish Dhawan Space Center FLP   \n",
       "\n",
       "                                          CHARGE UTILE  \n",
       "0    Starlink v2-Mini G12-6-1 Starlink v2-Mini G12-...  \n",
       "1                   SPADEX Chaser SPADEX Target POEM-4  \n",
       "2                 Agila NuView A NuView B UtilitySat 1  \n",
       "3    Starlink v2-Mini G11-3-1 Starlink v2-Mini G11-...  \n",
       "4    DEAR-3 CASAA-Sat Unk LJ1Y6 Sat 1 Unk LJ1Y6 Sat...  \n",
       "..                                                 ...  \n",
       "254  Starlink v2-Mini G6-35-1 Starlink v2-Mini G6-3...  \n",
       "255    Tianmu 1-15 Tianmu 1-16 Tianmu 1-17 Tianmu 1-18  \n",
       "256                                            Ovzon 3  \n",
       "257  Starlink v2-Mini G7-9-1 Starlink v2-Mini G7-9-...  \n",
       "258                                      XPoSat POEM 3  \n",
       "\n",
       "[259 rows x 5 columns]"
      ]
     },
     "execution_count": 13,
     "metadata": {},
     "output_type": "execute_result"
    }
   ],
   "source": [
    "df['LANCEUR MISSION'].str"
   ]
  },
  {
   "cell_type": "code",
   "execution_count": 15,
   "id": "d1c1962a",
   "metadata": {},
   "outputs": [
    {
     "ename": "ValueError",
     "evalue": "time data \"30-12-2024 16:30 UTC\" doesn't match format \"%d-%m-%Y %H:%M:%S UTC\", at position 1. You might want to try:\n    - passing `format` if your strings have a consistent format;\n    - passing `format='ISO8601'` if your strings are all ISO8601 but not necessarily in exactly the same format;\n    - passing `format='mixed'`, and the format will be inferred for each element individually. You might want to use `dayfirst` alongside this.",
     "output_type": "error",
     "traceback": [
      "\u001b[0;31m---------------------------------------------------------------------------\u001b[0m",
      "\u001b[0;31mValueError\u001b[0m                                Traceback (most recent call last)",
      "Cell \u001b[0;32mIn[15], line 1\u001b[0m\n\u001b[0;32m----> 1\u001b[0m \u001b[43mpd\u001b[49m\u001b[38;5;241;43m.\u001b[39;49m\u001b[43mto_datetime\u001b[49m\u001b[43m(\u001b[49m\u001b[43mdf\u001b[49m\u001b[43m[\u001b[49m\u001b[38;5;124;43m'\u001b[39;49m\u001b[38;5;124;43mDATE HEURE\u001b[39;49m\u001b[38;5;124;43m'\u001b[39;49m\u001b[43m]\u001b[49m\u001b[43m,\u001b[49m\u001b[43m \u001b[49m\u001b[38;5;28;43mformat\u001b[39;49m\u001b[38;5;241;43m=\u001b[39;49m\u001b[38;5;124;43m\"\u001b[39;49m\u001b[38;5;132;43;01m%d\u001b[39;49;00m\u001b[38;5;124;43m-\u001b[39;49m\u001b[38;5;124;43m%\u001b[39;49m\u001b[38;5;124;43mm-\u001b[39;49m\u001b[38;5;124;43m%\u001b[39;49m\u001b[38;5;124;43mY \u001b[39;49m\u001b[38;5;124;43m%\u001b[39;49m\u001b[38;5;124;43mH:\u001b[39;49m\u001b[38;5;124;43m%\u001b[39;49m\u001b[38;5;124;43mM:\u001b[39;49m\u001b[38;5;124;43m%\u001b[39;49m\u001b[38;5;124;43mS UTC\u001b[39;49m\u001b[38;5;124;43m\"\u001b[39;49m\u001b[43m)\u001b[49m\n",
      "File \u001b[0;32m~/.local/lib/python3.10/site-packages/pandas/core/tools/datetimes.py:1067\u001b[0m, in \u001b[0;36mto_datetime\u001b[0;34m(arg, errors, dayfirst, yearfirst, utc, format, exact, unit, infer_datetime_format, origin, cache)\u001b[0m\n\u001b[1;32m   1065\u001b[0m         result \u001b[38;5;241m=\u001b[39m arg\u001b[38;5;241m.\u001b[39mmap(cache_array)\n\u001b[1;32m   1066\u001b[0m     \u001b[38;5;28;01melse\u001b[39;00m:\n\u001b[0;32m-> 1067\u001b[0m         values \u001b[38;5;241m=\u001b[39m \u001b[43mconvert_listlike\u001b[49m\u001b[43m(\u001b[49m\u001b[43marg\u001b[49m\u001b[38;5;241;43m.\u001b[39;49m\u001b[43m_values\u001b[49m\u001b[43m,\u001b[49m\u001b[43m \u001b[49m\u001b[38;5;28;43mformat\u001b[39;49m\u001b[43m)\u001b[49m\n\u001b[1;32m   1068\u001b[0m         result \u001b[38;5;241m=\u001b[39m arg\u001b[38;5;241m.\u001b[39m_constructor(values, index\u001b[38;5;241m=\u001b[39marg\u001b[38;5;241m.\u001b[39mindex, name\u001b[38;5;241m=\u001b[39marg\u001b[38;5;241m.\u001b[39mname)\n\u001b[1;32m   1069\u001b[0m \u001b[38;5;28;01melif\u001b[39;00m \u001b[38;5;28misinstance\u001b[39m(arg, (ABCDataFrame, abc\u001b[38;5;241m.\u001b[39mMutableMapping)):\n",
      "File \u001b[0;32m~/.local/lib/python3.10/site-packages/pandas/core/tools/datetimes.py:433\u001b[0m, in \u001b[0;36m_convert_listlike_datetimes\u001b[0;34m(arg, format, name, utc, unit, errors, dayfirst, yearfirst, exact)\u001b[0m\n\u001b[1;32m    431\u001b[0m \u001b[38;5;66;03m# `format` could be inferred, or user didn't ask for mixed-format parsing.\u001b[39;00m\n\u001b[1;32m    432\u001b[0m \u001b[38;5;28;01mif\u001b[39;00m \u001b[38;5;28mformat\u001b[39m \u001b[38;5;129;01mis\u001b[39;00m \u001b[38;5;129;01mnot\u001b[39;00m \u001b[38;5;28;01mNone\u001b[39;00m \u001b[38;5;129;01mand\u001b[39;00m \u001b[38;5;28mformat\u001b[39m \u001b[38;5;241m!=\u001b[39m \u001b[38;5;124m\"\u001b[39m\u001b[38;5;124mmixed\u001b[39m\u001b[38;5;124m\"\u001b[39m:\n\u001b[0;32m--> 433\u001b[0m     \u001b[38;5;28;01mreturn\u001b[39;00m \u001b[43m_array_strptime_with_fallback\u001b[49m\u001b[43m(\u001b[49m\u001b[43marg\u001b[49m\u001b[43m,\u001b[49m\u001b[43m \u001b[49m\u001b[43mname\u001b[49m\u001b[43m,\u001b[49m\u001b[43m \u001b[49m\u001b[43mutc\u001b[49m\u001b[43m,\u001b[49m\u001b[43m \u001b[49m\u001b[38;5;28;43mformat\u001b[39;49m\u001b[43m,\u001b[49m\u001b[43m \u001b[49m\u001b[43mexact\u001b[49m\u001b[43m,\u001b[49m\u001b[43m \u001b[49m\u001b[43merrors\u001b[49m\u001b[43m)\u001b[49m\n\u001b[1;32m    435\u001b[0m result, tz_parsed \u001b[38;5;241m=\u001b[39m objects_to_datetime64(\n\u001b[1;32m    436\u001b[0m     arg,\n\u001b[1;32m    437\u001b[0m     dayfirst\u001b[38;5;241m=\u001b[39mdayfirst,\n\u001b[0;32m   (...)\u001b[0m\n\u001b[1;32m    441\u001b[0m     allow_object\u001b[38;5;241m=\u001b[39m\u001b[38;5;28;01mTrue\u001b[39;00m,\n\u001b[1;32m    442\u001b[0m )\n\u001b[1;32m    444\u001b[0m \u001b[38;5;28;01mif\u001b[39;00m tz_parsed \u001b[38;5;129;01mis\u001b[39;00m \u001b[38;5;129;01mnot\u001b[39;00m \u001b[38;5;28;01mNone\u001b[39;00m:\n\u001b[1;32m    445\u001b[0m     \u001b[38;5;66;03m# We can take a shortcut since the datetime64 numpy array\u001b[39;00m\n\u001b[1;32m    446\u001b[0m     \u001b[38;5;66;03m# is in UTC\u001b[39;00m\n",
      "File \u001b[0;32m~/.local/lib/python3.10/site-packages/pandas/core/tools/datetimes.py:467\u001b[0m, in \u001b[0;36m_array_strptime_with_fallback\u001b[0;34m(arg, name, utc, fmt, exact, errors)\u001b[0m\n\u001b[1;32m    456\u001b[0m \u001b[38;5;28;01mdef\u001b[39;00m \u001b[38;5;21m_array_strptime_with_fallback\u001b[39m(\n\u001b[1;32m    457\u001b[0m     arg,\n\u001b[1;32m    458\u001b[0m     name,\n\u001b[0;32m   (...)\u001b[0m\n\u001b[1;32m    462\u001b[0m     errors: \u001b[38;5;28mstr\u001b[39m,\n\u001b[1;32m    463\u001b[0m ) \u001b[38;5;241m-\u001b[39m\u001b[38;5;241m>\u001b[39m Index:\n\u001b[1;32m    464\u001b[0m \u001b[38;5;250m    \u001b[39m\u001b[38;5;124;03m\"\"\"\u001b[39;00m\n\u001b[1;32m    465\u001b[0m \u001b[38;5;124;03m    Call array_strptime, with fallback behavior depending on 'errors'.\u001b[39;00m\n\u001b[1;32m    466\u001b[0m \u001b[38;5;124;03m    \"\"\"\u001b[39;00m\n\u001b[0;32m--> 467\u001b[0m     result, tz_out \u001b[38;5;241m=\u001b[39m \u001b[43marray_strptime\u001b[49m\u001b[43m(\u001b[49m\u001b[43marg\u001b[49m\u001b[43m,\u001b[49m\u001b[43m \u001b[49m\u001b[43mfmt\u001b[49m\u001b[43m,\u001b[49m\u001b[43m \u001b[49m\u001b[43mexact\u001b[49m\u001b[38;5;241;43m=\u001b[39;49m\u001b[43mexact\u001b[49m\u001b[43m,\u001b[49m\u001b[43m \u001b[49m\u001b[43merrors\u001b[49m\u001b[38;5;241;43m=\u001b[39;49m\u001b[43merrors\u001b[49m\u001b[43m,\u001b[49m\u001b[43m \u001b[49m\u001b[43mutc\u001b[49m\u001b[38;5;241;43m=\u001b[39;49m\u001b[43mutc\u001b[49m\u001b[43m)\u001b[49m\n\u001b[1;32m    468\u001b[0m     \u001b[38;5;28;01mif\u001b[39;00m tz_out \u001b[38;5;129;01mis\u001b[39;00m \u001b[38;5;129;01mnot\u001b[39;00m \u001b[38;5;28;01mNone\u001b[39;00m:\n\u001b[1;32m    469\u001b[0m         unit \u001b[38;5;241m=\u001b[39m np\u001b[38;5;241m.\u001b[39mdatetime_data(result\u001b[38;5;241m.\u001b[39mdtype)[\u001b[38;5;241m0\u001b[39m]\n",
      "File \u001b[0;32mstrptime.pyx:501\u001b[0m, in \u001b[0;36mpandas._libs.tslibs.strptime.array_strptime\u001b[0;34m()\u001b[0m\n",
      "File \u001b[0;32mstrptime.pyx:451\u001b[0m, in \u001b[0;36mpandas._libs.tslibs.strptime.array_strptime\u001b[0;34m()\u001b[0m\n",
      "File \u001b[0;32mstrptime.pyx:583\u001b[0m, in \u001b[0;36mpandas._libs.tslibs.strptime._parse_with_format\u001b[0;34m()\u001b[0m\n",
      "\u001b[0;31mValueError\u001b[0m: time data \"30-12-2024 16:30 UTC\" doesn't match format \"%d-%m-%Y %H:%M:%S UTC\", at position 1. You might want to try:\n    - passing `format` if your strings have a consistent format;\n    - passing `format='ISO8601'` if your strings are all ISO8601 but not necessarily in exactly the same format;\n    - passing `format='mixed'`, and the format will be inferred for each element individually. You might want to use `dayfirst` alongside this."
     ]
    }
   ],
   "source": [
    "pd.to_datetime(df['DATE HEURE'], format=\"%d-%m-%Y %H:%M:%S UTC\")"
   ]
  }
 ],
 "metadata": {
  "kernelspec": {
   "display_name": "Python 3",
   "language": "python",
   "name": "python3"
  },
  "language_info": {
   "codemirror_mode": {
    "name": "ipython",
    "version": 3
   },
   "file_extension": ".py",
   "mimetype": "text/x-python",
   "name": "python",
   "nbconvert_exporter": "python",
   "pygments_lexer": "ipython3",
   "version": "3.10.12"
  }
 },
 "nbformat": 4,
 "nbformat_minor": 5
}
