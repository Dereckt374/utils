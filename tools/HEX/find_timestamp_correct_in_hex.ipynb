{
 "cells": [
  {
   "cell_type": "code",
   "execution_count": 11,
   "metadata": {},
   "outputs": [
    {
     "name": "stdout",
     "output_type": "stream",
     "text": [
      "home_dir : c:\\Users\\Virgil MESLE\\Documents\\0-Obsidian\\Python\\My_codes\\3-CSUM\\GS_utils\\gseg\\tools\n",
      "working_dir : c:\\Users\\Virgil MESLE\\Documents\\0-Obsidian\\Python\\My_codes\\3-CSUM\\GS_utils\\gseg\\tools\\main\n",
      "results_dir : c:\\Users\\Virgil MESLE\\Documents\\0-Obsidian\\Python\\My_codes\\3-CSUM\\GS_utils\\gseg\\tools\\data\n"
     ]
    }
   ],
   "source": [
    "import os\n",
    "import subprocess\n",
    "import pandas as pd\n",
    "import numpy as np\n",
    "import sys\n",
    "\n",
    "\n",
    "import os\n",
    "dic_path, c = {}, 0\n",
    "dic_path['home_dir'] = os.getcwd()\n",
    "while (os.path.split(dic_path['home_dir'])[-1] != 'tools') and (c < 10) : \n",
    "    dic_path['home_dir'] = os.path.split(dic_path['home_dir'])[0]\n",
    "    c+=1\n",
    "dic_path['working_dir'] = os.path.join(dic_path['home_dir'], 'main')\n",
    "dic_path['results_dir'] = os.path.join(dic_path['home_dir'], 'data')\n",
    "os.chdir(dic_path['working_dir'])\n",
    "for i in list(dic_path.keys()) : print(f'{i} : {dic_path[i]}')\n",
    "import functions_csum as fct_csum\n"
   ]
  },
  {
   "cell_type": "code",
   "execution_count": 12,
   "metadata": {},
   "outputs": [],
   "source": [
    "from datetime import datetime, timezone, timedelta, date"
   ]
  },
  {
   "cell_type": "code",
   "execution_count": 13,
   "metadata": {},
   "outputs": [],
   "source": [
    "lst = [line.strip() for line in open('hex_str.txt')]\n"
   ]
  },
  {
   "cell_type": "code",
   "execution_count": 14,
   "metadata": {},
   "outputs": [],
   "source": [
    "txt = ''.join(lst).replace(' ', '')"
   ]
  },
  {
   "cell_type": "code",
   "execution_count": 15,
   "metadata": {},
   "outputs": [
    {
     "name": "stdout",
     "output_type": "stream",
     "text": [
      "38 2024-05-16 12:04:43\n",
      "3bda4566\n"
     ]
    }
   ],
   "source": [
    "year_now = datetime.now().year\n",
    "for i in range(0, len(txt)-8):\n",
    "    date = datetime.strptime(fct_csum.hex_to_date_timestamp_frmt(txt[i:i+8]), '%Y-%m-%d %H:%M:%S')\n",
    "    if  date.year == year_now :\n",
    "        print(i, date)\n",
    "        print(txt[i:i+8])\n"
   ]
  },
  {
   "cell_type": "code",
   "execution_count": null,
   "metadata": {},
   "outputs": [],
   "source": []
  }
 ],
 "metadata": {
  "kernelspec": {
   "display_name": "Python 3",
   "language": "python",
   "name": "python3"
  },
  "language_info": {
   "codemirror_mode": {
    "name": "ipython",
    "version": 3
   },
   "file_extension": ".py",
   "mimetype": "text/x-python",
   "name": "python",
   "nbconvert_exporter": "python",
   "pygments_lexer": "ipython3",
   "version": "3.10.0"
  }
 },
 "nbformat": 4,
 "nbformat_minor": 2
}
