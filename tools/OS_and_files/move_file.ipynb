{
 "cells": [
  {
   "cell_type": "code",
   "execution_count": 1,
   "metadata": {},
   "outputs": [
    {
     "name": "stdout",
     "output_type": "stream",
     "text": [
      "Tous les fichiers ont été déplacés.\n"
     ]
    }
   ],
   "source": [
    "import os\n",
    "import shutil\n",
    "\n",
    "# Chemin du répertoire racine\n",
    "root_dir = r'D:\\01-Perso\\Photos\\import_google_photo'\n",
    "\n",
    "# Parcours des sous-dossiers\n",
    "for subdir, dirs, files in os.walk(root_dir):\n",
    "    if subdir != root_dir:  # Ne pas toucher au répertoire racine lui-même\n",
    "        for file in files:\n",
    "            source = os.path.join(subdir, file)\n",
    "            destination = os.path.join(root_dir, file)\n",
    "\n",
    "            # Vérifie si le fichier existe déjà dans le répertoire racine\n",
    "            if not os.path.exists(destination):\n",
    "                shutil.move(source, destination)\n",
    "            else:\n",
    "                # Si un fichier avec le même nom existe déjà, on renomme le fichier\n",
    "                base, extension = os.path.splitext(file)\n",
    "                new_file_name = f\"{base}_copy{extension}\"\n",
    "                new_destination = os.path.join(root_dir, new_file_name)\n",
    "                shutil.move(source, new_destination)\n",
    "\n",
    "print(\"Tous les fichiers ont été déplacés.\")\n"
   ]
  }
 ],
 "metadata": {
  "kernelspec": {
   "display_name": "Python 3",
   "language": "python",
   "name": "python3"
  },
  "language_info": {
   "codemirror_mode": {
    "name": "ipython",
    "version": 3
   },
   "file_extension": ".py",
   "mimetype": "text/x-python",
   "name": "python",
   "nbconvert_exporter": "python",
   "pygments_lexer": "ipython3",
   "version": "3.11.2"
  }
 },
 "nbformat": 4,
 "nbformat_minor": 2
}
