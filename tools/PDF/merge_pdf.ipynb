{
 "cells": [
  {
   "cell_type": "code",
   "execution_count": 4,
   "metadata": {},
   "outputs": [],
   "source": [
    "import os"
   ]
  },
  {
   "cell_type": "code",
   "execution_count": 6,
   "metadata": {},
   "outputs": [
    {
     "data": {
      "text/plain": [
       "'d:\\\\Google Drive\\\\2 - Obsidian\\\\Python\\\\0-My_module\\\\utilitaire\\\\PDF'"
      ]
     },
     "execution_count": 6,
     "metadata": {},
     "output_type": "execute_result"
    }
   ],
   "source": [
    "os.getcwd()"
   ]
  },
  {
   "cell_type": "code",
   "execution_count": 12,
   "metadata": {},
   "outputs": [
    {
     "data": {
      "text/plain": [
       "['10d6c8c7-e7a9-42a5-a91f-198aaed9f289.jfif',\n",
       " \"2023713_143324_FICHE D'INSCRIPTION 2024_2025_ CHEFS COMMISSAIRES ET ASSISTANTS.pdf\",\n",
       " 'adetourer.png',\n",
       " 'betaflight-configurator_10.10.0_win64-installer.exe',\n",
       " 'DCS_World_web.exe',\n",
       " 'desktop.ini',\n",
       " \"Fiche d'inscription Scoute.ai\",\n",
       " 'MediaCreationTool_22H2.exe',\n",
       " 'OARJET-2024-0020.pdf',\n",
       " 'Plan de travail 1.pdf',\n",
       " 'Plan de travail 1.png',\n",
       " 'Plan de travail 2.pdf',\n",
       " 'rib.pdf',\n",
       " 'simple-blue-curve-background-vector-business',\n",
       " 'simple-blue-curve-background-vector-business.zip',\n",
       " 'System AIT Engineer position description.pdf',\n",
       " 'Telegram Desktop',\n",
       " 'trip_2024.png']"
      ]
     },
     "execution_count": 12,
     "metadata": {},
     "output_type": "execute_result"
    }
   ],
   "source": [
    "path = '/home/vmesle/Téléchargements'\n",
    "path = r\"C:\\\\Users\\\\virgi\\\\Downloads\\\\\"\n",
    "os.chdir(path)\n",
    "os.listdir(path)"
   ]
  },
  {
   "cell_type": "code",
   "execution_count": 13,
   "metadata": {},
   "outputs": [
    {
     "data": {
      "text/plain": [
       "(True, <_io.FileIO [closed]>)"
      ]
     },
     "execution_count": 13,
     "metadata": {},
     "output_type": "execute_result"
    }
   ],
   "source": [
    "from pypdf import PdfWriter , PdfReader\n",
    "  \n",
    "writer = PdfWriter() # create writer object  \n",
    "  \n",
    "# loop through source files  \n",
    "for filename in ['Plan de travail 1.pdf', 'Plan de travail 2.pdf']: #os.listdir(path):\n",
    "    reader = PdfReader(filename) # read source file  \n",
    "    for page in reader.pages: # loop through pages  \n",
    "        writer.add_page(page.rotate(-90)) # append page  \n",
    "  \n",
    "writer.write(\"merged.pdf\") # write merged file"
   ]
  }
 ],
 "metadata": {
  "kernelspec": {
   "display_name": "Python 3",
   "language": "python",
   "name": "python3"
  },
  "language_info": {
   "codemirror_mode": {
    "name": "ipython",
    "version": 3
   },
   "file_extension": ".py",
   "mimetype": "text/x-python",
   "name": "python",
   "nbconvert_exporter": "python",
   "pygments_lexer": "ipython3",
   "version": "3.11.2"
  }
 },
 "nbformat": 4,
 "nbformat_minor": 2
}
