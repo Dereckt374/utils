{
 "cells": [
  {
   "cell_type": "code",
   "execution_count": 1,
   "metadata": {},
   "outputs": [],
   "source": [
    "import os\n",
    "from create_ics import creer_evenement_ics, creer_calendrier_ics"
   ]
  },
  {
   "cell_type": "code",
   "execution_count": 2,
   "metadata": {},
   "outputs": [
    {
     "name": "stdout",
     "output_type": "stream",
     "text": [
      "Calendrier avec plusieurs événements enregistré dans calendrier_evenements.ics\n"
     ]
    }
   ],
   "source": [
    "# Informations de l'événement\n",
    "nom_evenement = \"Vacation EAE\"\n",
    "description = \"\"\"\n",
    "Contact : Capitaine Yannis YOUBI\n",
    "Enseignant en Mécanique et Systèmes spatiaux\n",
    "\n",
    "PISTE - Direction Générale de l’Enseignement et de la Recherche\n",
    "École de l’Air et de l'Espace\n",
    "\n",
    "Base aérienne 701 - 13661 Salon Air\n",
    "PNIA : 864 701 6348\n",
    "06 59 65 75 09 – Poste 26348\n",
    "\"\"\"\n",
    "lieu = \"École de l’Air et de l'Espace\"\n",
    "fichier_ics = \"evenement\"\n",
    "\n",
    "durees_dates = {\n",
    "\"2024-11-21T08:00:00\" : 4.25,\n",
    "\"2024-11-28T10:15:00\" : 2.25,\n",
    "\"2024-11-29T08:00:00\" : 4.25,\n",
    "\"2024-12-04T08:00:00\" : 4.25,\n",
    "\"2024-12-09T08:00:00\" : 4.25,\n",
    "\"2024-12-11T08:00:00\" : 4.25,\n",
    "\"2024-12-18T08:00:00\" : 4.25,\n",
    "\"2024-12-19T08:00:00\" : 4.25,\n",
    "}\n",
    "\n",
    "evenements = [creer_evenement_ics(nom_evenement, date, durees_dates[date], description, lieu) for date in durees_dates]\n",
    "\n",
    "# Créer le fichier .ics avec plusieurs événements\n",
    "creer_calendrier_ics(evenements, \"calendrier_evenements.ics\")"
   ]
  },
  {
   "cell_type": "code",
   "execution_count": null,
   "metadata": {},
   "outputs": [],
   "source": []
  }
 ],
 "metadata": {
  "kernelspec": {
   "display_name": "Python 3",
   "language": "python",
   "name": "python3"
  },
  "language_info": {
   "codemirror_mode": {
    "name": "ipython",
    "version": 3
   },
   "file_extension": ".py",
   "mimetype": "text/x-python",
   "name": "python",
   "nbconvert_exporter": "python",
   "pygments_lexer": "ipython3",
   "version": "3.10.12"
  }
 },
 "nbformat": 4,
 "nbformat_minor": 2
}
