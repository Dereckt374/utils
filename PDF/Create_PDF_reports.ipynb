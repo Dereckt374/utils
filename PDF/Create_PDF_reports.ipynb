{
 "cells": [
  {
   "cell_type": "code",
   "execution_count": 1,
   "metadata": {},
   "outputs": [],
   "source": [
    "from fpdf import FPDF"
   ]
  },
  {
   "cell_type": "markdown",
   "metadata": {},
   "source": [
    "Source : https://towardsdatascience.com/how-to-create-a-pdf-report-for-your-data-analysis-in-python-2bea81133b"
   ]
  },
  {
   "cell_type": "code",
   "execution_count": 2,
   "metadata": {},
   "outputs": [
    {
     "data": {
      "text/plain": [
       "''"
      ]
     },
     "execution_count": 2,
     "metadata": {},
     "output_type": "execute_result"
    }
   ],
   "source": [
    "pdf = FPDF()\n",
    "pdf.add_page() #Can be customed\n",
    "pdf.output(f'./example.pdf', 'F')"
   ]
  },
  {
   "cell_type": "markdown",
   "metadata": {},
   "source": [
    "You can add text cells with the cell() method. To showcase the resulting layout, we will set the parameter border = 1, which shows the cell’s border. When you achieve your desired design, you can set the parameter value back to 0.\n",
    "\n",
    "With the w and h parameters, you can define the width and height of the text cell. A w = 0 will result in a text cell that spans across the entire page width.\n",
    "\n",
    "The ln parameter defines where the position should go after this cell:\n",
    "\n",
    "0: to the right of the current cell  \n",
    "1: to the beginning of the next line  \n",
    "2: below the current cell  \n",
    "To create space between cells, you can use the set_xy() method to specify a specific position for the next element or the ln() method to create vertical space."
   ]
  },
  {
   "cell_type": "code",
   "execution_count": 4,
   "metadata": {},
   "outputs": [
    {
     "data": {
      "text/plain": [
       "''"
      ]
     },
     "execution_count": 4,
     "metadata": {},
     "output_type": "execute_result"
    }
   ],
   "source": [
    "# Margin\n",
    "m = 10 \n",
    "# Page width: Width of A4 is 210mm\n",
    "pw = 210 - 2*m \n",
    "# Cell height\n",
    "ch = 50\n",
    "pdf = FPDF()\n",
    "pdf.add_page()\n",
    "pdf.set_font('Arial', '', 12)\n",
    "pdf.cell(w=0, h=ch, txt=\"Cell 1\", border=1, ln=1)\n",
    "pdf.cell(w=(pw/2), h=ch, txt=\"Cell 2a\", border=1, ln=0)\n",
    "pdf.cell(w=(pw/2), h=ch, txt=\"Cell 2b\", border=1, ln=1)\n",
    "pdf.cell(w=(pw/3), h=ch, txt=\"Cell 3a\", border=1, ln=0)\n",
    "pdf.cell(w=(pw/3), h=ch, txt=\"Cell 3b\", border=1, ln=0)\n",
    "pdf.cell(w=(pw/3), h=ch, txt=\"Cell 3c\", border=1, ln=1)\n",
    "pdf.cell(w=(pw/3), h=ch, txt=\"Cell 4a\", border=1, ln=0)\n",
    "pdf.cell(w=(pw/3)*2, h=ch, txt=\"Cell 4b\", border=1, ln=1)\n",
    "pdf.set_xy(x=10, y= 220) # or use pdf.ln(50)\n",
    "pdf.cell(w=0, h=ch, txt=\"Cell 5\", border=1, ln=1)\n",
    "pdf.output(f'./example.pdf', 'F')"
   ]
  },
  {
   "cell_type": "markdown",
   "metadata": {},
   "source": [
    "## Header and Footer\n",
    "You can also specify a header and footer shown on each page in the PDF document. For this, you need to overwrite the header() and footer() methods in a custom class. Don’t forget to use an instance of your custom class instead of the FPDF class."
   ]
  },
  {
   "cell_type": "code",
   "execution_count": 5,
   "metadata": {},
   "outputs": [
    {
     "data": {
      "text/plain": [
       "''"
      ]
     },
     "execution_count": 5,
     "metadata": {},
     "output_type": "execute_result"
    }
   ],
   "source": [
    "# Custom class to overwrite the header and footer methods\n",
    "class PDF(FPDF):\n",
    "    def __init__(self):\n",
    "        super().__init__()\n",
    "    def header(self):\n",
    "        self.set_font('Arial', '', 12)\n",
    "        self.cell(0, 10, 'Header', 1, 1, 'C')\n",
    "    def footer(self):\n",
    "        self.set_y(-15)\n",
    "        self.set_font('Arial', '', 12)\n",
    "        self.cell(0, 10, 'Footer', 1, 0, 'C')\n",
    "pdf = PDF() # Instance of custom class\n",
    "pdf.add_page()\n",
    "pdf.set_font('Arial', '', 12)\n",
    "pdf.cell(w=0, h=255, txt = \"Body\", border = 1, ln = 1, align = 'C')\n",
    "pdf.output(f'./example.pdf', 'F')\n"
   ]
  },
  {
   "cell_type": "code",
   "execution_count": 6,
   "metadata": {},
   "outputs": [
    {
     "data": {
      "text/plain": [
       "''"
      ]
     },
     "execution_count": 6,
     "metadata": {},
     "output_type": "execute_result"
    }
   ],
   "source": [
    "pdf = FPDF()\n",
    "pdf.add_page()\n",
    "pdf.set_font('Arial', '', 16)\n",
    "pdf.cell(w=0, h=10, txt=\"This is regular text.\", ln=1)\n",
    "pdf.set_font('Arial', 'B', 16)\n",
    "pdf.cell(w=0, h=10, txt=\"This is bold text.\", ln=1)\n",
    "pdf.set_font('Arial', 'I', 16)\n",
    "pdf.cell(w=0, h=10, txt=\"This is italic text.\", ln=1)\n",
    "pdf.set_font('Arial', '', 16) # Reset text back to regular\n",
    "pdf.cell(w=0, h=10, txt=\"This is left aligned text.\", ln=1,   \n",
    "         align='L')\n",
    "pdf.cell(w=0, h=10, txt=\"This is center aligned text.\", ln=1,\n",
    "         align='C')\n",
    "pdf.cell(w=0, h=10, txt=\"This is right aligned text.\", ln=1,\n",
    "         align='R')\n",
    "pdf.set_fill_color(r= 0, g= 128, b = 0)\n",
    "pdf.cell(w=0, h=10, txt=\"This is text with filled background.\", ln=1,\n",
    "         fill=True)\n",
    "pdf.set_text_color(r= 0, g= 128, b = 0)\n",
    "pdf.cell(w=0, h=10, txt=\"This is colored text.\", ln=1)\n",
    "pdf.output(f'./example.pdf', 'F')"
   ]
  },
  {
   "cell_type": "markdown",
   "metadata": {},
   "source": [
    "## Line and Page Breaks\n",
    "If you need a block of longer text, the cell() method is insufficient because it doesn’t allow for line or page breaks, as you can see below.\n",
    "\n",
    "For this purpose, you should use the multi_cell() method instead, which can handle line and page breaks."
   ]
  },
  {
   "cell_type": "code",
   "execution_count": 9,
   "metadata": {},
   "outputs": [
    {
     "data": {
      "text/plain": [
       "''"
      ]
     },
     "execution_count": 9,
     "metadata": {},
     "output_type": "execute_result"
    }
   ],
   "source": [
    "pdf = FPDF()\n",
    "pdf.add_page()\n",
    "pdf.set_font('Arial', '', 16)\n",
    "pdf.cell(w=0, h=50, txt=\"This and the below cells are regular cells.\" , border=1, ln=1)\n",
    "pdf.cell(w=0, h=50, txt=\"Example: \" + \"a\"*30, border=1, ln=1)\n",
    "pdf.multi_cell(w=0, h=50, txt=\"This and the below cells are multi cells.\", border=1, )\n",
    "pdf.multi_cell(w=0, h=5, txt=\"Example: \" + \"a\"*30, border=1, )\n",
    "pdf.output(f'./example.pdf', 'F')"
   ]
  },
  {
   "cell_type": "markdown",
   "metadata": {},
   "source": [
    "## Exemple of template"
   ]
  },
  {
   "cell_type": "code",
   "execution_count": null,
   "metadata": {},
   "outputs": [],
   "source": [
    "# cell height\n",
    "ch = 8\n",
    "class PDF(FPDF):\n",
    "    def __init__(self):\n",
    "        super().__init__()\n",
    "    def header(self):\n",
    "        self.set_font('Arial', '', 12)\n",
    "        self.cell(0, 8, 'Header', 0, 1, 'C')\n",
    "    def footer(self):\n",
    "        self.set_y(-15)\n",
    "        self.set_font('Arial', '', 12)\n",
    "        self.cell(0, 8, f'Page {self.page_no()}', 0, 0, 'C')\n",
    "pdf = PDF()\n",
    "pdf.add_page()\n",
    "pdf.set_font('Arial', 'B', 24)\n",
    "pdf.cell(w=0, h=20, txt=\"Title\", ln=1)\n",
    "pdf.set_font('Arial', '', 16)\n",
    "pdf.cell(w=30, h=ch, txt=\"Date: \", ln=0)\n",
    "pdf.cell(w=30, h=ch, txt=\"01/01/2022\", ln=1)\n",
    "pdf.cell(w=30, h=ch, txt=\"Author: \", ln=0)\n",
    "pdf.cell(w=30, h=ch, txt=\"Max Mustermann\", ln=1)\n",
    "pdf.ln(ch)\n",
    "pdf.multi_cell(w=0, h=5, txt=lorem.paragraph())\n",
    "pdf.ln(ch)\n",
    "pdf.multi_cell(w=0, h=5, txt=lorem.paragraph())\n",
    "pdf.output(f'./example.pdf', 'F')"
   ]
  },
  {
   "cell_type": "markdown",
   "metadata": {},
   "source": [
    "## Add images"
   ]
  },
  {
   "cell_type": "code",
   "execution_count": null,
   "metadata": {},
   "outputs": [],
   "source": [
    "pdf = PDF()\n",
    "pdf.add_page()\n",
    "pdf.set_font('Arial', 'B', 24)\n",
    "pdf.cell(w=0, h=20, txt=\"Title\", ln=1)\n",
    "pdf.set_font('Arial', '', 16)\n",
    "pdf.cell(w=30, h=ch, txt=\"Date: \", ln=0)\n",
    "pdf.cell(w=30, h=ch, txt=\"01/01/2022\", ln=1)\n",
    "pdf.cell(w=30, h=ch, txt=\"Author: \", ln=0)\n",
    "pdf.cell(w=30, h=ch, txt=\"Max Mustermann\", ln=1)\n",
    "pdf.ln(ch)\n",
    "pdf.multi_cell(w=0, h=5, txt=lorem.paragraph())\n",
    "\n",
    "\n",
    "pdf.image('./example_chart.png', \n",
    "          x = 10, y = None, w = 100, h = 0, type = 'PNG')\n",
    "pdf.ln(ch)\n",
    "pdf.multi_cell(w=0, h=5, txt=lorem.paragraph())\n",
    "pdf.output(f'./example.pdf', 'F')"
   ]
  },
  {
   "cell_type": "markdown",
   "metadata": {},
   "source": [
    "## Table from DF"
   ]
  },
  {
   "cell_type": "code",
   "execution_count": null,
   "metadata": {},
   "outputs": [],
   "source": [
    "pdf = PDF()\n",
    "pdf.add_page()\n",
    "pdf.set_font('Arial', 'B', 24)\n",
    "pdf.cell(w=0, h=20, txt=\"Title\", ln=1)\n",
    "pdf.set_font('Arial', '', 16)\n",
    "pdf.cell(w=30, h=ch, txt=\"Date: \", ln=0)\n",
    "pdf.cell(w=30, h=ch, txt=\"01/01/2022\", ln=1)\n",
    "pdf.cell(w=30, h=ch, txt=\"Author: \", ln=0)\n",
    "pdf.cell(w=30, h=ch, txt=\"Max Mustermann\", ln=1)\n",
    "pdf.ln(ch)\n",
    "pdf.multi_cell(w=0, h=5, txt=lorem.paragraph())\n",
    "pdf.image('./example_chart.png', x = 10, y = None, w = 100, h = 0, type = 'PNG', link = '')\n",
    "pdf.ln(ch)\n",
    "pdf.multi_cell(w=0, h=5, txt=lorem.paragraph())\n",
    "pdf.ln(ch)\n",
    "\n",
    "\n",
    "# Table Header\n",
    "pdf.set_font('Arial', 'B', 16)\n",
    "pdf.cell(w=40, h=ch, txt='Feature 1', border=1, ln=0, align='C')\n",
    "pdf.cell(w=40, h=ch, txt='Feature 2', border=1, ln=1, align='C')\n",
    "# Table contents\n",
    "pdf.set_font('Arial', '', 16)\n",
    "for i in range(0, len(df)):\n",
    "    pdf.cell(w=40, h=ch, \n",
    "             txt=df['feature 1'].iloc[i], \n",
    "             border=1, ln=0, align='C')\n",
    "    pdf.cell(w=40, h=ch, \n",
    "             txt=df['feature 2'].iloc[i].astype(str), \n",
    "             border=1, ln=1, align='C')\n",
    "pdf.output(f'./example.pdf', 'F')"
   ]
  },
  {
   "cell_type": "code",
   "execution_count": null,
   "metadata": {},
   "outputs": [],
   "source": []
  }
 ],
 "metadata": {
  "kernelspec": {
   "display_name": "Python 3",
   "language": "python",
   "name": "python3"
  },
  "language_info": {
   "codemirror_mode": {
    "name": "ipython",
    "version": 3
   },
   "file_extension": ".py",
   "mimetype": "text/x-python",
   "name": "python",
   "nbconvert_exporter": "python",
   "pygments_lexer": "ipython3",
   "version": "3.10.0"
  }
 },
 "nbformat": 4,
 "nbformat_minor": 2
}
