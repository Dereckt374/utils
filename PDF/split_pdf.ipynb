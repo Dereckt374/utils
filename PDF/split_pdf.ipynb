{
 "cells": [
  {
   "cell_type": "code",
   "execution_count": 1,
   "metadata": {},
   "outputs": [],
   "source": [
    "import os"
   ]
  },
  {
   "cell_type": "code",
   "execution_count": 15,
   "metadata": {},
   "outputs": [
    {
     "data": {
      "text/plain": [
       "['Correction_Technologie_Spatiale.pdf',\n",
       " 'Cours_Technologie_Spatiale.pdf',\n",
       " 'Images',\n",
       " 'second_half.pdf',\n",
       " 'first_half.pdf',\n",
       " 'Annexes.docx',\n",
       " 'Annexes.pdf']"
      ]
     },
     "execution_count": 15,
     "metadata": {},
     "output_type": "execute_result"
    }
   ],
   "source": [
    "path = '/home/vmesle/Documents/Obsidian/01-Perso/EAE/Sujet et Correction/'\n",
    "os.chdir(path)\n",
    "file = 'first_half.pdf'\n",
    "os.listdir(path)"
   ]
  },
  {
   "cell_type": "code",
   "execution_count": 16,
   "metadata": {},
   "outputs": [],
   "source": [
    "from pypdf import PdfReader, PdfWriter\n",
    "\n",
    "# Open the PDF Document\n",
    "input_pdf = PdfReader(open(path+file, \"rb\"))\n",
    "\n",
    "# Split the PDF into two parts\n",
    "mid_page = int(7)\n",
    "\n",
    "first_half = PdfWriter()\n",
    "second_half = PdfWriter()\n",
    "\n",
    "for page_num in range(mid_page):\n",
    "    first_half.add_page(input_pdf.pages[page_num])\n",
    "\n",
    "for page_num in range(mid_page, len(input_pdf.pages)):\n",
    "    second_half.add_page(input_pdf.pages[page_num])\n",
    "\n",
    "# Save the two halves to the same directory\n",
    "output_file1 = 'first_half.pdf'\n",
    "output_file2 = 'second_half.pdf'\n",
    "\n",
    "with open(output_file1, 'wb') as output1:\n",
    "    first_half.write(output1)\n",
    "\n",
    "with open(output_file2, 'wb') as output2:\n",
    "    second_half.write(output2)"
   ]
  }
 ],
 "metadata": {
  "kernelspec": {
   "display_name": "Python 3",
   "language": "python",
   "name": "python3"
  },
  "language_info": {
   "codemirror_mode": {
    "name": "ipython",
    "version": 3
   },
   "file_extension": ".py",
   "mimetype": "text/x-python",
   "name": "python",
   "nbconvert_exporter": "python",
   "pygments_lexer": "ipython3",
   "version": "3.10.12"
  }
 },
 "nbformat": 4,
 "nbformat_minor": 2
}
