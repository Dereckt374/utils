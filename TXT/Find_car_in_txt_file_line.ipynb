{
 "cells": [
  {
   "cell_type": "code",
   "execution_count": 1,
   "metadata": {},
   "outputs": [],
   "source": [
    "import re\n",
    "import os"
   ]
  },
  {
   "cell_type": "code",
   "execution_count": 2,
   "metadata": {},
   "outputs": [],
   "source": [
    "cwd = r'C:\\Users\\Virgil MESLE\\Downloads\\ENSO RFT FFT tendancies'\n",
    "os.chdir(cwd)\n",
    "exit_file = 'all_RFT.txt'"
   ]
  },
  {
   "cell_type": "code",
   "execution_count": 3,
   "metadata": {},
   "outputs": [],
   "source": [
    "path = r\"all_file.txt\""
   ]
  },
  {
   "cell_type": "code",
   "execution_count": 4,
   "metadata": {},
   "outputs": [
    {
     "data": {
      "text/plain": [
       "1962"
      ]
     },
     "execution_count": 4,
     "metadata": {},
     "output_type": "execute_result"
    }
   ],
   "source": [
    "lst = [line.strip() for line in open(path)]\n",
    "len(lst)"
   ]
  },
  {
   "cell_type": "code",
   "execution_count": 5,
   "metadata": {},
   "outputs": [],
   "source": [
    "looked_str = 'ROB1U_E_SAT_PRO_RFT_Procedure'"
   ]
  },
  {
   "cell_type": "code",
   "execution_count": 13,
   "metadata": {},
   "outputs": [
    {
     "name": "stdout",
     "output_type": "stream",
     "text": [
      "C:\\Users\\Virgil MESLE\\Nextcloud\\ROBUSTA-1U\\ROBUSTA-1E_ENSO\\ENSO-DATA\\ENSO-DATA-PFM\\20211105_PFM_Integration\\20220823_RFT01\\ROB1U_E_SAT_PRO_RFT_Procedure_20200921_v1.4.0_AS RUN ENSO PFM RFT01.xlsx\n",
      "C:\\Users\\Virgil MESLE\\Nextcloud\\ROBUSTA-1U\\ROBUSTA-1E_ENSO\\ENSO-DATA\\ENSO-DATA-PFM\\20211105_PFM_Integration\\20220823_RFT01\\ROB1U_E_SAT_PRO_RFT_Procedure_20200921_v1.4.1_As run ENSO PFM RFT01_20220826.xlsx\n",
      "C:\\Users\\Virgil MESLE\\Nextcloud\\ROBUSTA-1U\\ROBUSTA-1E_ENSO\\ENSO-DATA\\ENSO-DATA-PFM\\20211105_PFM_Integration\\20221128_Activities for PL final integration\\03_20221128_RFT 01bis post integration_281122\\ROB1U_E_SAT_PRO_RFT_Procedure_20221128_v4.0.xlsx\n",
      "C:\\Users\\Virgil MESLE\\Nextcloud\\ROBUSTA-1U\\ROBUSTA-1E_ENSO\\ENSO-DATA\\ENSO-DATA-PFM\\20211105_PFM_Integration\\20221128_Activities for PL final integration\\03_20221128_RFT 01bis post integration_281122\\RFT Tempate v4.0\\ROB1U_E_SAT_PRO_RFT_Procedure_20221125_v4.0.xlsx\n",
      "C:\\Users\\Virgil MESLE\\Nextcloud\\ROBUSTA-1U\\ROBUSTA-1E_ENSO\\ENSO-DATA\\ENSO-DATA-PFM\\20211105_PFM_Integration\\20221128_Activities for PL final integration\\05_20221130_RFT01ter&Deployment_301122\\LogsRFT\\ROB1U_E_SAT_PRO_RFT_Procedure_ENSO-RFT01-nobeacon_20221130_v4.0.xlsx\n",
      "C:\\Users\\Virgil MESLE\\Nextcloud\\ROBUSTA-1U\\ROBUSTA-1E_ENSO\\ENSO-DATA\\ENSO-DATA-PFM\\20211105_PFM_Integration\\20221128_Activities for PL final integration\\05_20221130_RFT01ter&Deployment_301122\\LogsRFT\\ROB1U_E_SAT_PRO_RFT_Procedure_ENSO-RFT01-ter_20221130_v4.0.xlsx\n",
      "C:\\Users\\Virgil MESLE\\Nextcloud\\ROBUSTA-1U\\ROBUSTA-1E_ENSO\\ENSO-DATA\\ENSO-DATA-PFM\\20211105_PFM_Integration\\20221128_Activities for PL final integration\\06_20221206_ENSO_PFM_RFT01quater_ANO_PA\\ROB1U_E_SAT_PRO_RFT_Procedure_ENSO-RFT01-4_20221206_v4.0.xlsx\n",
      "C:\\Users\\Virgil MESLE\\Nextcloud\\ROBUSTA-1U\\ROBUSTA-1E_ENSO\\ENSO-DATA\\ENSO-DATA-PFM\\20211105_PFM_Integration\\20221128_Activities for PL final integration\\09_20221219_TestPL_ENSO_DeployTer\\20221912_TestPL_CAM_deploy_&BATTERY\\ROB1U_E_SAT_PRO_RFT_Procedure_20221219_v4.1.xlsx\n",
      "C:\\Users\\Virgil MESLE\\Nextcloud\\ROBUSTA-1U\\ROBUSTA-1E_ENSO\\ENSO-DATA\\ENSO-DATA-PFM\\20211105_PFM_Integration\\20221128_Activities for PL final integration\\16_20230426_PLIntegration\\ROB1U_E_SAT_PRO_RFT_Procedure_202300426_v5.0.1.xlsx\n",
      "C:\\Users\\Virgil MESLE\\Nextcloud\\ROBUSTA-1U\\ROBUSTA-1E_ENSO\\ENSO-DATA\\ENSO-DATA-PFM\\20230612-NewTTC_Flst-RFT\\ROB1U_E_SAT_PRO_RFT_Procedure_ENSO New TTC_ ASRUN_20230612_v5.2.0.xlsx\n",
      "C:\\Users\\Virgil MESLE\\Nextcloud\\ROBUSTA-1U\\ROBUSTA-1E_ENSO\\ENSO-DATA\\ENSO-DATA-PFM\\20230614-RFT03_NewTTC_PFMRFT\\ROB1U_E_SAT_PRO_RFT_Procedure_20230614_v5.2.0.xlsx\n",
      "C:\\Users\\Virgil MESLE\\Nextcloud\\ROBUSTA-1U\\ROBUSTA-1E_ENSO\\ENSO-DATA\\ENSO-DATA-PFM\\20230616_Thermal Vacuum Cycling\\Procedures vierges\\RFT\\PF\\RFTprocedure\\ROB1U_E_SAT_PRO_RFT_Procedure_20230607_v5.2.0.xlsx\n",
      "C:\\Users\\Virgil MESLE\\Nextcloud\\ROBUSTA-1U\\ROBUSTA-1E_ENSO\\ENSO-DATA\\ENSO-DATA-PFM\\20230629_IlluminationTest_Post TVAC\\ROB1U_E_SAT_PRO_RFT_Procedure_20230629_v5.2.0_Illumination2.xlsx\n",
      "C:\\Users\\Virgil MESLE\\Nextcloud\\ROBUSTA-1U\\ROBUSTA-1E_ENSO\\ENSO-DATA\\ENSO-DATA-PFM\\20230721_Functional statement before vib\\ROB1U_E_SAT_PRO_RFT_Procedure_AS RUN PRE VIB_20230629_v5.2.0.xlsx\n",
      "C:\\Users\\Virgil MESLE\\Nextcloud\\ROBUSTA-1U\\ROBUSTA-1E_ENSO\\ENSO-DATA\\ENSO-DATA-PFM\\20230725_Functional validation post vib\\ROB1U_E_SAT_PRO_RFT_Procedure_AS RUN POST VIB_20230629_v5.2.0.xlsx\n",
      "C:\\Users\\Virgil MESLE\\Nextcloud\\ROBUSTA-1U\\ROBUSTA-1E_ENSO\\ENSO-DATA\\ENSO-DATA-PFM\\20230725_Functional validation post vib\\RFT in MISSION mode\\ROB1U_E_SAT_PRO_RFT_Procedure_AS RUN IN MISSION_20230629_v5.2.0.xlsx\n",
      "C:\\Users\\Virgil MESLE\\Nextcloud\\ROBUSTA-1U\\ROBUSTA-1E_ENSO\\ENSO-DATA\\ENSO-DATA-PFM\\20230913_Integration PL & tests fonctionnels pre vib\\20230913_ENSO_2 Validation post integration PL\\ROB1U_E_SAT_PRO_RFT_Procedure_20230629_v5.2.0.xlsx\n",
      "C:\\Users\\Virgil MESLE\\Nextcloud\\ROBUSTA-1U\\ROBUSTA-1E_ENSO\\ENSO-DATA\\ENSO-DATA-PFM\\20230918_Functional validation post vib3\\ROB1U_E_SAT_PRO_RFT_Procedure_20230629_v5.2.0.xlsx\n",
      "C:\\Users\\Virgil MESLE\\Nextcloud\\ROBUSTA-1U\\ROBUSTA-1E_ENSO\\ENSO-DATA\\ENSO-DATA-PFM\\20230919_Flight Config\\ROB1U_E_SAT_PRO_RFT_Procedure_20230629_v5.2.0.xlsx\n",
      "C:\\Users\\Virgil MESLE\\Nextcloud\\ROBUSTA-1U\\ROBUSTA-1E_ENSO\\ENSO-DATA\\ENSO-DATA-PFM\\Archives\\ROB1U_E_SAT_PRO_RFT_Procedure_20221125_v4.0.xlsx\n"
     ]
    }
   ],
   "source": [
    "lst_exit = []\n",
    "\n",
    "with open(exit_file,'w') as fichier :\n",
    "    for i in lst:\n",
    "        if i.count(looked_str) > 0:\n",
    "            print(i)\n",
    "            lst_exit.append(i)\n",
    "            fichier.write(i+'\\n')"
   ]
  },
  {
   "cell_type": "code",
   "execution_count": 14,
   "metadata": {},
   "outputs": [
    {
     "name": "stdout",
     "output_type": "stream",
     "text": [
      "20\n"
     ]
    }
   ],
   "source": [
    "print(len(lst_exit))"
   ]
  }
 ],
 "metadata": {
  "kernelspec": {
   "display_name": "Python 3",
   "language": "python",
   "name": "python3"
  },
  "language_info": {
   "codemirror_mode": {
    "name": "ipython",
    "version": 3
   },
   "file_extension": ".py",
   "mimetype": "text/x-python",
   "name": "python",
   "nbconvert_exporter": "python",
   "pygments_lexer": "ipython3",
   "version": "3.10.0"
  }
 },
 "nbformat": 4,
 "nbformat_minor": 2
}
